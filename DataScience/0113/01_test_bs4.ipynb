{
 "cells": [
  {
   "cell_type": "code",
   "execution_count": 3,
   "metadata": {},
   "outputs": [],
   "source": [
    "# 데이터 추출 : BeautifulSoup\n",
    "# https://github.com/jungwonalicia/bigdata/blob/master/source_code/Bs4-%EB%B7%B0%ED%8B%B0%ED%94%8C%EC%88%B24%EB%A5%BC%20%EC%9D%B4%EC%9A%A9%ED%95%9C%20%ED%81%AC%EB%A1%A4%EB%A7%81.ipynb"
   ]
  },
  {
   "cell_type": "code",
   "execution_count": 5,
   "metadata": {},
   "outputs": [],
   "source": [
    "import bs4"
   ]
  },
  {
   "cell_type": "code",
   "execution_count": 36,
   "metadata": {},
   "outputs": [
    {
     "data": {
      "text/plain": [
       "'<html><div></div></html>'"
      ]
     },
     "execution_count": 36,
     "metadata": {},
     "output_type": "execute_result"
    }
   ],
   "source": [
    "html_str = \"<html><div></div></html>\"\n",
    "html_str"
   ]
  },
  {
   "cell_type": "code",
   "execution_count": 37,
   "metadata": {},
   "outputs": [
    {
     "name": "stdout",
     "output_type": "stream",
     "text": [
      "<html><div></div></html>\n",
      "<class 'bs4.BeautifulSoup'>\n"
     ]
    }
   ],
   "source": [
    "bs0bj = bs4.BeautifulSoup(html_str, \"html.parser\") # html 로 보고 분석해\n",
    "print(bs0bj)\n",
    "print(type(bs0bj))"
   ]
  },
  {
   "cell_type": "code",
   "execution_count": 39,
   "metadata": {},
   "outputs": [
    {
     "data": {
      "text/plain": [
       "<div></div>"
      ]
     },
     "execution_count": 39,
     "metadata": {},
     "output_type": "execute_result"
    }
   ],
   "source": [
    "# html 내에 div 가 포함된 구조로 형성됨\n",
    "\n",
    "# div 찾아서 found_div 에 넣기 => div 안에 있는 모든 내용을 긁어옴\n",
    "found_div = bs0bj.find(\"div\") # or findall\n",
    "found_div"
   ]
  }
 ],
 "metadata": {
  "kernelspec": {
   "display_name": "Python 3",
   "language": "python",
   "name": "python3"
  },
  "language_info": {
   "codemirror_mode": {
    "name": "ipython",
    "version": 3
   },
   "file_extension": ".py",
   "mimetype": "text/x-python",
   "name": "python",
   "nbconvert_exporter": "python",
   "pygments_lexer": "ipython3",
   "version": "3.7.0"
  }
 },
 "nbformat": 4,
 "nbformat_minor": 2
}
