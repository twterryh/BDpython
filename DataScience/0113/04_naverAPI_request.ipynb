{
 "cells": [
  {
   "cell_type": "code",
   "execution_count": 1,
   "metadata": {},
   "outputs": [],
   "source": [
    "# request 를 쓸 수도 있고\n",
    "\n",
    "# requests 도 쓸 수 있음\n",
    "# https://github.com/jungwonalicia/bigdata/blob/master/source_code/%EC%9B%B9%EC%82%AC%EC%9D%B4%ED%8A%B8%20%EC%97%AC%EB%9F%AC%20%ED%8E%98%EC%9D%B4%EC%A7%80%20%ED%81%AC%EB%A1%A4%EB%A7%81-2.ipynb\n",
    "\n",
    "# 여기서는 request 를 씀\n",
    "import urllib.request"
   ]
  },
  {
   "cell_type": "code",
   "execution_count": 2,
   "metadata": {},
   "outputs": [],
   "source": [
    "client_id  = \"FvmZdWDZ8V7NF5c9NwAE\"\n",
    "client_secret = \"ch8bXO4lGQ\""
   ]
  },
  {
   "cell_type": "code",
   "execution_count": 5,
   "metadata": {},
   "outputs": [
    {
     "data": {
      "text/plain": [
       "'%EC%97%AC%ED%96%89'"
      ]
     },
     "execution_count": 5,
     "metadata": {},
     "output_type": "execute_result"
    }
   ],
   "source": [
    "encType = urllib.parse.quote(\"여행\")\n",
    "encType"
   ]
  },
  {
   "cell_type": "code",
   "execution_count": 7,
   "metadata": {},
   "outputs": [
    {
     "data": {
      "text/plain": [
       "'https://openapi.naver.com/v1/search/blog?query=%EC%97%AC%ED%96%89'"
      ]
     },
     "execution_count": 7,
     "metadata": {},
     "output_type": "execute_result"
    }
   ],
   "source": [
    "url = \"https://openapi.naver.com/v1/search/blog?query=\"+encType\n",
    "url"
   ]
  },
  {
   "cell_type": "code",
   "execution_count": 12,
   "metadata": {},
   "outputs": [
    {
     "data": {
      "text/plain": [
       "<urllib.request.Request at 0x13aa90725f8>"
      ]
     },
     "execution_count": 12,
     "metadata": {},
     "output_type": "execute_result"
    }
   ],
   "source": [
    "request = urllib.request.Request(url)  # 요청을 위한 부품 만들기\n",
    "request.add_header(\"X-Naver-Client-Id\", client_id)\n",
    "request.add_header(\"X-Naver-Client-Secret\", client_secret)\n",
    "request"
   ]
  },
  {
   "cell_type": "code",
   "execution_count": 13,
   "metadata": {},
   "outputs": [
    {
     "name": "stdout",
     "output_type": "stream",
     "text": [
      "{\n",
      "\"lastBuildDate\": \"Sun, 13 Jan 2019 13:32:32 +0900\",\n",
      "\"total\": 33122833,\n",
      "\"start\": 1,\n",
      "\"display\": 10,\n",
      "\"items\": [\n",
      "{\n",
      "\"title\": \"베트남 나트랑 가족<b>여행</b> 코스 추천!\",\n",
      "\"link\": \"http://blog.naver.com/zzzzzangg?Redirect=Log&amp;logNo=221422343983\",\n",
      "\"description\": \"가족<b>여행</b> 코스 추천! 요즘 한끼 식사를 하려고 하면 지갑이 홀쭉해 지는 경우가 많잖아요. 그러다 보니 친구와 약속 한번 잡아도 백 번을 망설이게 되는 것 같은데요. 그런 점에서 봤을 때 동남아 <b>여행</b>은... \",\n",
      "\"bloggername\": \"STAY GOLD\",\n",
      "\"bloggerlink\": \"http://blog.naver.com/zzzzzangg\",\n",
      "\"postdate\": \"20181221\"\n",
      "\n",
      "},\n",
      "{\n",
      "\"title\": \"아이와 <b>여행</b>하기에 대한 중간 정리편...\",\n",
      "\"link\": \"http://blog.naver.com/fightclub?Redirect=Log&amp;logNo=221439267009\",\n",
      "\"description\": \"아이와 <b>여행</b>하기에 대한 중간 정리편... 언제고 한번 해보고 싶었던 아이와 <b>여행</b>하기에 대한 정리편... 어디 <b>여행</b>하려고 계획중인데 과연 우리 아이가 비행기를 잘 탈 수 있을까요???라는 질문이 제법 많은데... \",\n",
      "\"bloggername\": \"fightclub...\",\n",
      "\"bloggerlink\": \"http://blog.naver.com/fightclub\",\n",
      "\"postdate\": \"20190111\"\n",
      "\n",
      "},\n",
      "{\n",
      "\"title\": \"2018년 <b>여행</b> 모음집\",\n",
      "\"link\": \"http://blog.naver.com/hoho9294?Redirect=Log&amp;logNo=221428618785\",\n",
      "\"description\": \"이번 년도도 당연 정리해봐야지 엄마랑 베트남 1월 엄마랑 단둘이 <b>여행</b>은 처음 인 것 같은데, 날이 꽤 선선했던 시기라서 쾌적하게 <b>여행</b>하고 왔다 단체 관광(패키지)했던거라 완전 단둘이 <b>여행</b>은 아녔지만... \",\n",
      "\"bloggername\": \"여느때와 다름없이\",\n",
      "\"bloggerlink\": \"http://blog.naver.com/hoho9294\",\n",
      "\"postdate\": \"20181227\"\n",
      "\n",
      "},\n",
      "{\n",
      "\"title\": \"[2박 3일 제주<b>여행</b>] 1일차 - 섭지코지\",\n",
      "\"link\": \"http://blog.naver.com/akasis4u?Redirect=Log&amp;logNo=221440825513\",\n",
      "\"description\": \"<b>여행</b> 기간 내내 저는 부모님 사진을 무지하게 많이 찍어드렸는데, 반대로 부모님은 제 사진을 한 장도 안 찍어주셨다는...(...)(쭈굴) 자연 경관을 좋아하시는 두 분이라 풍경만 열심히 찍으시더라고요. <b>여행</b> 가서... \",\n",
      "\"bloggername\": \"망상★발전소\",\n",
      "\"bloggerlink\": \"http://blog.naver.com/akasis4u\",\n",
      "\"postdate\": \"20190113\"\n",
      "\n",
      "},\n",
      "{\n",
      "\"title\": \"겨울바다<b>여행</b>  가족<b>여행</b>1탄#포항1박2일\",\n",
      "\"link\": \"http://blog.naver.com/qkrgusdn0808?Redirect=Log&amp;logNo=221433952414\",\n",
      "\"description\": \"어이구야ㅋㅋ 가족<b>여행</b>다녀왔는데 벌써 작년얘기인가요ㅋㅋ 날짜로 따져보면 열흘밖에 안지났는데 해가 바껴서 그런가 꽤 오래전에 다녀온거같아요 이번엔 징검다리연휴여서 2박3일로 가족<b>여행</b> 다녀왔습니다... \",\n",
      "\"bloggername\": \"사랑더하기....사랑...♥\",\n",
      "\"bloggerlink\": \"http://blog.naver.com/qkrgusdn0808\",\n",
      "\"postdate\": \"20190104\"\n",
      "\n",
      "},\n",
      "{\n",
      "\"title\": \"2018 겨울 3주 유럽<b>여행</b> : 프롤로그\",\n",
      "\"link\": \"http://blog.naver.com/kancho_jung?Redirect=Log&amp;logNo=221438908889\",\n",
      "\"description\": \"갑작스러운 휴직 덕에 빚을 내서라도 가야 한다는 유럽<b>여행</b>인지라 지금 아니면 언제 갈까 싶어서 과감하게 도전! 5월에도 영국을 돌고 와서 또 장기간 <b>여행</b>을 간다는 것이 죄책감(?)도 들었지만 30대부터... \",\n",
      "\"bloggername\": \"마음속의 도쿄공간\",\n",
      "\"bloggerlink\": \"http://blog.naver.com/kancho_jung\",\n",
      "\"postdate\": \"20190110\"\n",
      "\n",
      "},\n",
      "{\n",
      "\"title\": \"2018년 <b>여행</b>정산\",\n",
      "\"link\": \"http://blog.naver.com/hi60s?Redirect=Log&amp;logNo=221432546995\",\n",
      "\"description\": \"<b>여행</b>횟수 8회 <b>여행</b>일수 52일 <b>여행</b>경비 10,454,000원 지난주 &quot;다음 <b>여행</b>까지 38일남았습니다&quot;라는 메시지를 받았다. 얼마나 화들짝 놀랐는지 핸드폰을 들고 뒤로 주저앉을 뻔 했다. 허거걱, 또? 지난 11월 보홀에... \",\n",
      "\"bloggername\": \"하이유경닷컴\",\n",
      "\"bloggerlink\": \"http://blog.naver.com/hi60s\",\n",
      "\"postdate\": \"20190102\"\n",
      "\n",
      "},\n",
      "{\n",
      "\"title\": \"도쿄<b>여행</b> 도쿄 토부레반트호텔\",\n",
      "\"link\": \"http://blog.naver.com/lov2kang?Redirect=Log&amp;logNo=221430303530\",\n",
      "\"description\": \"도쿄<b>여행</b> 호텔 &gt; 도쿄레반트 호텔이번에 도쿄<b>여행</b>을 준비하면서 제일 먼저 한게 왕복 항공기...조금 저렴한 나리타 공항보다 도심에서 가까운 하네다 공항으로 다녀오는 여정이었어요...4월에 항공기와 호텔을... \",\n",
      "\"bloggername\": \"♧깨몽n란몽의 일상의 행복 ♧\",\n",
      "\"bloggerlink\": \"http://blog.naver.com/lov2kang\",\n",
      "\"postdate\": \"20181230\"\n",
      "\n",
      "},\n",
      "{\n",
      "\"title\": \"보라카이 재개장 후 자유<b>여행</b> tip.\",\n",
      "\"link\": \"http://blog.naver.com/tigerj0725?Redirect=Log&amp;logNo=221430767856\",\n",
      "\"description\": \"2013년에 방문 후 두번째 찾은 보라카이 <b>여행</b>. 그당시 여름휴가로 첫 해외<b>여행</b>을 친한 선배와 보라카이 섬의 여유로움에 반해서 친한 동생과 급조로 다녀왔습니다. 운동 관련 포스팅 외에는 잘 안올리는데.. 출국... \",\n",
      "\"bloggername\": \"펀치레이디_다이어트전문gym\",\n",
      "\"bloggerlink\": \"http://blog.naver.com/tigerj0725\",\n",
      "\"postdate\": \"20181231\"\n",
      "\n",
      "},\n",
      "{\n",
      "\"title\": \"2018년의 서른세번의 <b>여행</b>기록\",\n",
      "\"link\": \"http://blog.naver.com/suzie38317?Redirect=Log&amp;logNo=221431248406\",\n",
      "\"description\": \"매년 이맘때면 끄적거리는 한 해 동안의 <b>여행</b> 돌아보기! 새해에는 더 많이 가즈아! 하고 싶지만 아무래도 어려울 것 같고요 ^^ 올해에도 건강과 시간을 허락해주신 하나님께 감사드리며 간단하게 2018년의 <b>여행</b>기... \",\n",
      "\"bloggername\": \"Mrs.Moon House\",\n",
      "\"bloggerlink\": \"http://blog.naver.com/suzie38317\",\n",
      "\"postdate\": \"20181231\"\n",
      "\n",
      "}\n",
      "]\n",
      "}\n",
      "\n"
     ]
    }
   ],
   "source": [
    "response = urllib.request.urlopen(request)\n",
    "rescode = response.getcode()\n",
    "\n",
    "# 200 이 정상적으로 긁어왔을 때 반응 코드임\n",
    "\n",
    "if(rescode==200): \n",
    "    response_body = response.read()\n",
    "    print(response_body.decode(\"utf-8\"))\n",
    "else:\n",
    "    print(\"Error Code: \" + rescode)"
   ]
  },
  {
   "cell_type": "code",
   "execution_count": 17,
   "metadata": {},
   "outputs": [],
   "source": [
    "# key : value 형태로 넘어 온 것을 볼 수 있음\n",
    "# ex) \"postdate\": \"20181221\"\n",
    "# 이게 json 형태다\n",
    "\n",
    "# http://jsonviewer.stack.hu/\n",
    "# 이걸로 tree 형태로 보기 쉽게 만들기"
   ]
  }
 ],
 "metadata": {
  "kernelspec": {
   "display_name": "Python 3",
   "language": "python",
   "name": "python3"
  },
  "language_info": {
   "codemirror_mode": {
    "name": "ipython",
    "version": 3
   },
   "file_extension": ".py",
   "mimetype": "text/x-python",
   "name": "python",
   "nbconvert_exporter": "python",
   "pygments_lexer": "ipython3",
   "version": "3.7.0"
  }
 },
 "nbformat": 4,
 "nbformat_minor": 2
}
