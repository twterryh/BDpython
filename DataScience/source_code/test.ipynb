{
 "cells": [
  {
   "cell_type": "code",
   "execution_count": 1,
   "metadata": {},
   "outputs": [
    {
     "name": "stdout",
     "output_type": "stream",
     "text": [
      " enter number >>50\n",
      "bigger\n",
      " enter number >>75\n",
      "smaller\n",
      " enter number >>266\n",
      "smaller\n",
      " enter number >>62\n",
      "bigger\n",
      " enter number >>66\n",
      "smaller\n",
      " enter number >>64\n",
      "smaller\n",
      " enter number >>63\n",
      "correct\n",
      "no. of tries 7\n"
     ]
    }
   ],
   "source": [
    "import random\n",
    "a = random.randint(1,100)\n",
    "\n",
    "count = 0\n",
    "\n",
    "while count < 10 :\n",
    "    guess = int(input(\" enter number >>\"))\n",
    "    count += 1\n",
    "    if guess == a:\n",
    "        print(\"correct\")\n",
    "        print(\"no. of tries\", count)\n",
    "        break\n",
    "    else:\n",
    "        if guess > a :\n",
    "            print(\"smaller\")\n",
    "        else:\n",
    "            print(\"bigger\")"
   ]
  },
  {
   "cell_type": "code",
   "execution_count": null,
   "metadata": {
    "collapsed": true
   },
   "outputs": [],
   "source": []
  }
 ],
 "metadata": {
  "kernelspec": {
   "display_name": "Python 3",
   "language": "python",
   "name": "python3"
  },
  "language_info": {
   "codemirror_mode": {
    "name": "ipython",
    "version": 3
   },
   "file_extension": ".py",
   "mimetype": "text/x-python",
   "name": "python",
   "nbconvert_exporter": "python",
   "pygments_lexer": "ipython3",
   "version": "3.6.2"
  }
 },
 "nbformat": 4,
 "nbformat_minor": 2
}
